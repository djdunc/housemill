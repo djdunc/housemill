{
  "nbformat": 4,
  "nbformat_minor": 0,
  "metadata": {
    "colab": {
      "provenance": [],
      "authorship_tag": "ABX9TyOovXrceciTFUZk4N37ZV2v",
      "include_colab_link": true
    },
    "kernelspec": {
      "name": "python3",
      "display_name": "Python 3"
    },
    "language_info": {
      "name": "python"
    }
  },
  "cells": [
    {
      "cell_type": "markdown",
      "metadata": {
        "id": "view-in-github",
        "colab_type": "text"
      },
      "source": [
        "<a href=\"https://colab.research.google.com/github/djdunc/housemill/blob/master/flooding-high-tides.ipynb\" target=\"_parent\"><img src=\"https://colab.research.google.com/assets/colab-badge.svg\" alt=\"Open In Colab\"/></a>"
      ]
    },
    {
      "cell_type": "code",
      "execution_count": 9,
      "metadata": {
        "colab": {
          "base_uri": "https://localhost:8080/"
        },
        "id": "9JK1ayNelDfI",
        "outputId": "a55f7d07-3fbe-4f13-e822-954309ea75d2"
      },
      "outputs": [
        {
          "output_type": "stream",
          "name": "stdout",
          "text": [
            "                     Time  Sonar Distance Measure (mm)\n",
            "63    2023-10-02 04:20:12                          490\n",
            "86    2023-10-02 16:10:12                          470\n",
            "1233  2023-10-28 01:30:12                          440\n",
            "1251  2023-10-28 13:40:13                          560\n",
            "1269  2023-10-29 01:50:12                          480\n",
            "1274  2023-10-29 01:40:18                          595\n",
            "1295  2023-10-29 13:10:13                          375\n",
            "5564  2024-01-13 14:50:12                          450\n",
            "5617  2024-01-14 15:40:12                          530\n",
            "5642  2024-01-15 03:50:12                          565\n",
            "6498  2024-02-01 05:20:12                          330\n",
            "6693  2024-02-05 07:20:12                          570\n",
            "6695  2024-02-05 07:40:13                          565\n",
            "7091  2024-02-11 02:10:13                          560\n",
            "7239  2024-02-12 02:50:12                          555\n",
            "7344  2024-02-14 04:20:12                          430\n",
            "8463  2024-02-26 02:30:12                          370\n",
            "8494  2024-02-26 15:00:12                          550\n",
            "9239  2024-03-10 13:30:12                          510\n",
            "9240  2024-03-10 13:40:11                          510\n",
            "9317  2024-03-12 02:30:12                          430\n",
            "9343  2024-03-12 15:00:12                          380\n",
            "9344  2024-03-12 15:10:13                          380\n",
            "9416  2024-03-13 03:10:18                          395\n",
            "10878 2024-04-10 02:50:12                          285\n",
            "10879 2024-04-10 03:00:12                          285\n",
            "10880 2024-04-10 03:10:13                          285\n",
            "10881 2024-04-10 03:20:12                          285\n",
            "10885 2024-04-10 04:00:12                          570\n",
            "10887 2024-04-10 04:20:13                          565\n",
            "10888 2024-04-10 04:30:12                          565\n",
            "10890 2024-04-10 04:50:12                          565\n",
            "10892 2024-04-10 05:10:12                          565\n",
            "10893 2024-04-10 05:20:13                          565\n",
            "10897 2024-04-10 06:10:12                          570\n",
            "10922 2024-04-10 10:20:13                          565\n",
            "10924 2024-04-10 10:40:12                          570\n",
            "10925 2024-04-10 10:50:12                          570\n",
            "10930 2024-04-10 11:40:12                          560\n",
            "10933 2024-04-10 12:10:12                          565\n",
            "10934 2024-04-10 12:20:12                          565\n",
            "10935 2024-04-10 12:30:12                          565\n",
            "10936 2024-04-10 12:40:12                          565\n",
            "10938 2024-04-10 13:00:12                          565\n",
            "10939 2024-04-10 13:10:12                          565\n",
            "10940 2024-04-10 13:20:12                          565\n",
            "10941 2024-04-10 13:30:12                          565\n",
            "10943 2024-04-10 13:50:12                          560\n",
            "10953 2024-04-10 15:30:11                          450\n",
            "11002 2024-04-11 16:20:12                          470\n",
            "11026 2024-04-12 04:20:12                          515\n",
            "24348 2024-08-23 04:40:13                          405\n",
            "24373 2024-08-23 16:50:13                          380\n",
            "24401 2024-08-24 05:30:13                          530\n",
            "27591 2024-09-19 03:10:13                          550\n",
            "27691 2024-09-20 03:50:13                          430\n",
            "27715 2024-09-20 15:50:13                          470\n",
            "27741 2024-09-21 04:30:13                          475\n",
            "27748 2024-09-21 16:40:12                          435\n",
            "27799 2024-09-22 17:10:13                          560\n",
            "Minima saved to flooding-high-tides.csv\n"
          ]
        }
      ],
      "source": [
        "import pandas as pd\n",
        "import numpy as np\n",
        "\n",
        "df = pd.read_csv('/content/Maxbotix-Sonar-height-data-2023_10-2024-09.csv')\n",
        "\n",
        "def find_cyclical_minima(df, time_column, data_column):\n",
        "    \"\"\"\n",
        "    Finds all cyclical minimum values in a tidal dataset.\n",
        "\n",
        "    Args:\n",
        "        df (pd.DataFrame): The input DataFrame.\n",
        "        time_column (str): The name of the time column.\n",
        "        data_column (str): The name of the data column.\n",
        "\n",
        "    Returns:\n",
        "        pandas.DataFrame: A DataFrame containing the minimum values and their times.\n",
        "        Returns empty DataFrame if no minima found.\n",
        "    \"\"\"\n",
        "\n",
        "    df[time_column] = pd.to_datetime(df[time_column])\n",
        "\n",
        "    # Ensure data is sorted by time\n",
        "    df = df.sort_values(by=time_column)\n",
        "\n",
        "    minima_indices = []\n",
        "    for i in range(len(df)):\n",
        "      is_minimum = True\n",
        "      # compare to previous point, handle the edge case\n",
        "      if i > 0 and df.iloc[i][data_column] > df.iloc[i-1][data_column]:\n",
        "        is_minimum = False\n",
        "      # compare to next point, handle the edge case\n",
        "      if i < len(df) -1 and df.iloc[i][data_column] > df.iloc[i+1][data_column]:\n",
        "        is_minimum = False\n",
        "      if df.iloc[i][data_column] > 570:   #830 floorboard 570 room\n",
        "        is_minimum = False\n",
        "      if is_minimum:\n",
        "        minima_indices.append(i)\n",
        "\n",
        "\n",
        "    minima = df.loc[minima_indices, [time_column, data_column]]\n",
        "\n",
        "    return minima\n",
        "\n",
        "minima = find_cyclical_minima(df, 'Time', 'Sonar Distance Measure (mm)')\n",
        "print(minima)\n",
        "\n",
        "# Save to CSV\n",
        "minima.to_csv(\"flooding-high-tides.csv\", index=False)  # index=False prevents the index from being written to the file\n",
        "\n",
        "print(f\"Minima saved to flooding-high-tides.csv\")"
      ]
    }
  ]
}