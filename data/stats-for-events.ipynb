{
  "nbformat": 4,
  "nbformat_minor": 0,
  "metadata": {
    "colab": {
      "provenance": [],
      "authorship_tag": "ABX9TyM0PRo/mKuQRa+bUMD4ygi6",
      "include_colab_link": true
    },
    "kernelspec": {
      "name": "python3",
      "display_name": "Python 3"
    },
    "language_info": {
      "name": "python"
    }
  },
  "cells": [
    {
      "cell_type": "markdown",
      "metadata": {
        "id": "view-in-github",
        "colab_type": "text"
      },
      "source": [
        "<a href=\"https://colab.research.google.com/github/djdunc/housemill/blob/master/data/stats-for-events.ipynb\" target=\"_parent\"><img src=\"https://colab.research.google.com/assets/colab-badge.svg\" alt=\"Open In Colab\"/></a>"
      ]
    },
    {
      "cell_type": "code",
      "source": [
        "import pandas as pd\n",
        "from scipy.stats import chi2_contingency\n",
        "from scipy.stats import shapiro\n",
        "from scipy.stats import mannwhitneyu\n",
        "import matplotlib.pyplot as plt\n",
        "\n",
        "try:\n",
        "    df1 = pd.read_csv(\"109-flooding-high-tides-touching-floorboard.csv\")\n",
        "    df2 = pd.read_csv(\"32-flooding-high-tides.csv\")\n",
        "except FileNotFoundError:\n",
        "    print(\"Error: One or both files not found. Please check the file paths.\")\n",
        "    exit()\n",
        "\n"
      ],
      "metadata": {
        "id": "XOySCJkkq1mv"
      },
      "execution_count": 1,
      "outputs": []
    },
    {
      "cell_type": "code",
      "execution_count": 2,
      "metadata": {
        "colab": {
          "base_uri": "https://localhost:8080/",
          "height": 1000
        },
        "id": "ttcr0TxmS2H5",
        "outputId": "e43c98ab-928f-416e-90bc-27b3697908e9"
      },
      "outputs": [
        {
          "output_type": "stream",
          "name": "stdout",
          "text": [
            "\n",
            "-----------------------\n",
            "Chi-squared test is used to test if there is any significant difference\n",
            "between the monthly event counts for each dataset\n",
            "       Dataset 1  Dataset 2\n",
            "Month                      \n",
            "1              8        3.0\n",
            "2             15        6.0\n",
            "3             16        4.0\n",
            "4              9        4.0\n",
            "5              9        0.0\n",
            "7              4        0.0\n",
            "8              7        3.0\n",
            "9             10        6.0\n",
            "10            17        6.0\n",
            "11             9        0.0\n",
            "12             5        0.0\n",
            "\n",
            "Chi-squared statistic: 11.491097203678851\n",
            "P-value: 0.3205571700380598\n",
            "There is no significant difference between the two datasets.\n",
            "\n",
            "-----------------------\n",
            "Shaprio Wilk is testing for normality in the data\n",
            "Will test each dataset separately to see if data is normally distributed\n",
            "\n",
            "Shapiro-Wilk statistic: 0.926\n",
            "P-value: 0.000\n",
            "136 The data is not normally distributed.\n",
            "\n",
            "Shapiro-Wilk statistic: 0.951\n",
            "P-value: 0.157\n",
            "43 The data is normally distributed.\n",
            "\n",
            "-----------------------\n",
            "Mann Whitney U test is used to test if the distributions\n",
            "of the two datasets are consistently (significantly) different\n",
            "Mann-Whitney U statistic: 70.0\n",
            "P-value: 0.004704625567791411\n",
            "There is a statistically significant (consistent) difference between the two groups.\n",
            "\n"
          ]
        },
        {
          "output_type": "stream",
          "name": "stderr",
          "text": [
            "<ipython-input-2-347a8b1e30bf>:103: MatplotlibDeprecationWarning: The 'labels' parameter of boxplot() has been renamed 'tick_labels' since Matplotlib 3.9; support for the old name will be dropped in 3.11.\n",
            "  plt.boxplot([contingency_table['Dataset 1'], contingency_table['Dataset 2']],\n"
          ]
        },
        {
          "output_type": "display_data",
          "data": {
            "text/plain": [
              "<Figure size 800x600 with 1 Axes>"
            ],
            "image/png": "[encoded data removed]"
          },
          "metadata": {}
        }
      ],
      "source": [
        "\n",
        "\n",
        "print()\n",
        "print(\"-----------------------\")\n",
        "print(\"Chi-squared test is used to test if there is any significant difference\")\n",
        "print(\"between the monthly event counts for each dataset\")\n",
        "\n",
        "# Convert 'Time' column to datetime objects\n",
        "df1['Time'] = pd.to_datetime(df1['Time'])\n",
        "df2['Time'] = pd.to_datetime(df2['Time'])\n",
        "\n",
        "# Extract month from the 'Time' column\n",
        "df1['Month'] = df1['Time'].dt.month\n",
        "df2['Month'] = df2['Time'].dt.month\n",
        "\n",
        "# Calculate monthly totals for each dataset\n",
        "observed1 = df1['Month'].value_counts().sort_index()\n",
        "observed2 = df2['Month'].value_counts().sort_index()\n",
        "\n",
        "# Create a contingency table\n",
        "contingency_table = pd.DataFrame({\n",
        "    'Dataset 1': observed1,\n",
        "    'Dataset 2': observed2\n",
        "}).fillna(0)  # Replace NaN with 0\n",
        "\n",
        "print(contingency_table)\n",
        "\n",
        "# Perform the Chi-squared test\n",
        "chi2_statistic, p_value, dof, expected = chi2_contingency(contingency_table)\n",
        "\n",
        "print()\n",
        "\n",
        "print(\"Chi-squared statistic:\", chi2_statistic)\n",
        "print(\"P-value:\", p_value)\n",
        "\n",
        "# Interpret the results\n",
        "alpha = 0.05  # Significance level\n",
        "if p_value < alpha:\n",
        "    print(\"There is a significant difference between the two datasets.\")\n",
        "else:\n",
        "    print(\"There is no significant difference between the two datasets.\")\n",
        "\n",
        "print()\n",
        "print(\"-----------------------\")\n",
        "print(\"Shaprio Wilk is testing for normality in the data\")\n",
        "print(\"Will test each dataset separately to see if data is normally distributed\")\n",
        "print()\n",
        "    # Perform the Shapiro-Wilk test\n",
        "statistic, p_value = shapiro(df1['Sonar Distance Measure (mm)'])\n",
        "\n",
        "# Print the results\n",
        "print(f\"Shapiro-Wilk statistic: {statistic:.3f}\")\n",
        "print(f\"P-value: {p_value:.3f}\")\n",
        "\n",
        "# Interpret the results\n",
        "alpha = 0.05  # Significance level\n",
        "if p_value > alpha:\n",
        "    print(\"136 The data is normally distributed.\")\n",
        "else:\n",
        "    print(\"136 The data is not normally distributed.\")\n",
        "\n",
        "print()\n",
        "# Perform the Shapiro-Wilk test\n",
        "statistic, p_value = shapiro(df2['Sonar Distance Measure (mm)'])\n",
        "\n",
        "# Print the results\n",
        "print(f\"Shapiro-Wilk statistic: {statistic:.3f}\")\n",
        "print(f\"P-value: {p_value:.3f}\")\n",
        "\n",
        "# Interpret the results\n",
        "alpha = 0.05  # Significance level\n",
        "if p_value > alpha:\n",
        "    print(\"43 The data is normally distributed.\")\n",
        "else:\n",
        "    print(\"43 The data is not normally distributed.\")\n",
        "\n",
        "\n",
        "print()\n",
        "print(\"-----------------------\")\n",
        "print(\"Mann Whitney U test is used to test if the distributions\")\n",
        "print(\"of the two datasets are consistently (significantly) different\")\n",
        "\n",
        "\n",
        "# Extract the relevant data (Sonar Distance Measure)\n",
        "#data1 = df1['Sonar Distance Measure (mm)']\n",
        "#data2 = df2['Sonar Distance Measure (mm)']\n",
        "\n",
        "# Perform the Mann-Whitney U test\n",
        "statistic, p_value = mannwhitneyu(observed1, observed2)\n",
        "\n",
        "print(\"Mann-Whitney U statistic:\", statistic)\n",
        "print(\"P-value:\", p_value)\n",
        "\n",
        "# Interpret the results\n",
        "alpha = 0.05  # Significance level\n",
        "if p_value < alpha:\n",
        "    print(\"There is a statistically significant (consistent) difference between the two groups.\")\n",
        "else:\n",
        "    print(\"There is no statistically significant (consistent) difference between the two groups.\")\n",
        "\n",
        "print()\n",
        "\n",
        "# Create box plots\n",
        "plt.figure(figsize=(8, 6))\n",
        "plt.boxplot([contingency_table['Dataset 1'], contingency_table['Dataset 2']],\n",
        "            labels=['Dataset 1', 'Dataset 2'])\n",
        "plt.ylabel('Event counts')\n",
        "plt.title('Comparison of Monthly events')\n",
        "plt.show()\n",
        "\n",
        "\n"
      ]
    }
  ]
}