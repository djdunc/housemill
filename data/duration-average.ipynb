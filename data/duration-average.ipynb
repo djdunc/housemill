{
  "nbformat": 4,
  "nbformat_minor": 0,
  "metadata": {
    "colab": {
      "provenance": [],
      "authorship_tag": "ABX9TyOkPjndPQJUj0+Rwq3Vr+QL",
      "include_colab_link": true
    },
    "kernelspec": {
      "name": "python3",
      "display_name": "Python 3"
    },
    "language_info": {
      "name": "python"
    }
  },
  "cells": [
    {
      "cell_type": "markdown",
      "metadata": {
        "id": "view-in-github",
        "colab_type": "text"
      },
      "source": [
        "<a href=\"https://colab.research.google.com/github/djdunc/housemill/blob/master/data/duration-average.ipynb\" target=\"_parent\"><img src=\"https://colab.research.google.com/assets/colab-badge.svg\" alt=\"Open In Colab\"/></a>"
      ]
    },
    {
      "cell_type": "code",
      "execution_count": 3,
      "metadata": {
        "colab": {
          "base_uri": "https://localhost:8080/"
        },
        "id": "1qxpoTlTHGWW",
        "outputId": "19f7505a-7f9f-4594-84a9-3885a654498c"
      },
      "outputs": [
        {
          "output_type": "stream",
          "name": "stdout",
          "text": [
            "              Start Time             End Time  Duration (minutes)\n",
            "0    2023-10-01 03:10:13  2023-10-01 04:10:13                  60\n",
            "1    2023-10-01 15:20:13  2023-10-01 16:10:12                  50\n",
            "2    2023-10-02 03:40:13  2023-10-02 05:00:12                  80\n",
            "3    2023-10-02 15:40:13  2023-10-02 16:50:12                  70\n",
            "4    2023-10-09 07:10:12  2023-10-09 07:20:13                  10\n",
            "..                   ...                  ...                 ...\n",
            "106  2024-09-20 15:20:12  2024-09-20 16:40:12                  80\n",
            "107  2024-09-21 03:50:12  2024-09-21 05:20:13                  90\n",
            "108  2024-09-21 15:50:13  2024-09-21 17:20:13                  90\n",
            "109  2024-09-22 04:40:12  2024-09-22 05:40:13                  60\n",
            "110  2024-09-22 16:40:12  2024-09-22 17:50:13                  70\n",
            "\n",
            "[111 rows x 3 columns]\n",
            "Average duration: 52.79 minutes\n",
            "Standard deviation of duration: 25.23 minutes\n"
          ]
        }
      ],
      "source": [
        "import pandas as pd\n",
        "\n",
        "# Load the data from the Excel file\n",
        "df = pd.read_csv('/content/high-tide-durations.csv')\n",
        "\n",
        "print(df)\n",
        "\n",
        "# Calculate the average duration\n",
        "average_duration = df['Duration (minutes)'].mean()\n",
        "\n",
        "# Calculate the standard deviation of the duration\n",
        "std_dev_duration = df['Duration (minutes)'].std()\n",
        "\n",
        "# Print the results\n",
        "print(f\"Average duration: {average_duration:.2f} minutes\")\n",
        "print(f\"Standard deviation of duration: {std_dev_duration:.2f} minutes\")"
      ]
    }
  ]
}