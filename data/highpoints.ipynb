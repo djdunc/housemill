{
  "nbformat": 4,
  "nbformat_minor": 0,
  "metadata": {
    "colab": {
      "provenance": [],
      "authorship_tag": "ABX9TyPMserLjh7x0wgpifOWvBx0",
      "include_colab_link": true
    },
    "kernelspec": {
      "name": "python3",
      "display_name": "Python 3"
    },
    "language_info": {
      "name": "python"
    }
  },
  "cells": [
    {
      "cell_type": "markdown",
      "metadata": {
        "id": "view-in-github",
        "colab_type": "text"
      },
      "source": [
        "<a href=\"https://colab.research.google.com/github/djdunc/housemill/blob/master/data/highpoints.ipynb\" target=\"_parent\"><img src=\"https://colab.research.google.com/assets/colab-badge.svg\" alt=\"Open In Colab\"/></a>"
      ]
    },
    {
      "cell_type": "code",
      "execution_count": null,
      "metadata": {
        "id": "9JK1ayNelDfI"
      },
      "outputs": [],
      "source": [
        "import pandas as pd\n",
        "\n",
        "df = pd.read_csv('/content/Maxbotix-Sonar-height-data-2023_10-2024-09.csv')\n",
        "\n",
        "def find_cyclical_minima(df, time_column, data_column):\n",
        "    \"\"\"\n",
        "    Finds all cyclical minimum values in a tidal dataset.\n",
        "\n",
        "    Args:\n",
        "        df (pd.DataFrame): The input DataFrame.\n",
        "        time_column (str): The name of the time column.\n",
        "        data_column (str): The name of the data column.\n",
        "\n",
        "    Returns:\n",
        "        pandas.DataFrame: A DataFrame containing the minimum values and their times.\n",
        "        Returns empty DataFrame if no minima found.\n",
        "    \"\"\"\n",
        "\n",
        "    df[time_column] = pd.to_datetime(df[time_column])\n",
        "\n",
        "    # Ensure data is sorted by time\n",
        "    df = df.sort_values(by=time_column)\n",
        "\n",
        "    minima_indices = []\n",
        "    padding = 0\n",
        "    for i in range(len(df)):\n",
        "      is_minimum = True\n",
        "      padding = padding+1\n",
        "      # compare to previous point, handle the edge case\n",
        "      if i > 0 and df.iloc[i][data_column] > df.iloc[i-1][data_column]:\n",
        "        is_minimum = False\n",
        "      # compare to next point, handle the edge case\n",
        "      if i < len(df) -1 and df.iloc[i][data_column] > df.iloc[i+1][data_column]:\n",
        "        is_minimum = False\n",
        "      if df.iloc[i][data_column] > 3000:   #830 floorboard 570 room\n",
        "        is_minimum = False\n",
        "      if is_minimum:\n",
        "        if padding > 10:\n",
        "          minima_indices.append(i)\n",
        "          padding = 0\n",
        "\n",
        "\n",
        "    minima = df.loc[minima_indices, [time_column, data_column]]\n",
        "\n",
        "    return minima\n",
        "\n",
        "# Example usage:\n",
        "minima = find_cyclical_minima(df, 'Time', 'Sonar Distance Measure (mm)')\n",
        "print(minima)\n",
        "\n",
        "# Save to CSV\n",
        "minima.to_csv(\"high-tides.csv\", index=False)  # index=False prevents the index from being written to the file\n"
      ]
    }
  ]
}