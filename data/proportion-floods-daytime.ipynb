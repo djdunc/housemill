{
  "nbformat": 4,
  "nbformat_minor": 0,
  "metadata": {
    "colab": {
      "provenance": [],
      "authorship_tag": "ABX9TyMb3B7Tcz/+8R6rdx8gGVsx",
      "include_colab_link": true
    },
    "kernelspec": {
      "name": "python3",
      "display_name": "Python 3"
    },
    "language_info": {
      "name": "python"
    }
  },
  "cells": [
    {
      "cell_type": "markdown",
      "metadata": {
        "id": "view-in-github",
        "colab_type": "text"
      },
      "source": [
        "<a href=\"https://colab.research.google.com/github/djdunc/housemill/blob/master/data/proportion-floods-daytime.ipynb\" target=\"_parent\"><img src=\"https://colab.research.google.com/assets/colab-badge.svg\" alt=\"Open In Colab\"/></a>"
      ]
    },
    {
      "cell_type": "code",
      "execution_count": 3,
      "metadata": {
        "colab": {
          "base_uri": "https://localhost:8080/"
        },
        "id": "r5SzWHQjIfcA",
        "outputId": "b4468d6c-3eac-499f-e4c1-23d6b2e28945"
      },
      "outputs": [
        {
          "output_type": "stream",
          "name": "stdout",
          "text": [
            "The proportion of rows between 8 AM and 7 PM is: 45.59%\n"
          ]
        }
      ],
      "source": [
        "import pandas as pd\n",
        "\n",
        "df = pd.read_csv('/content/136-flooding-high-tides-touching-floorboards.csv')\n",
        "\n",
        "df['Time'] = pd.to_datetime(df['Time'], format='mixed')\n",
        "\n",
        "df['Time'] = df['Time'].dt.time\n",
        "\n",
        "def is_between_8am_7pm(time):\n",
        "    eight_am = pd.to_datetime('09:00:00').time()\n",
        "    seven_pm = pd.to_datetime('18:00:00').time()\n",
        "    return eight_am <= time <= seven_pm\n",
        "\n",
        "df['between_8am_7pm'] = df['Time'].apply(is_between_8am_7pm)\n",
        "\n",
        "proportion = df['between_8am_7pm'].sum() / len(df)\n",
        "print(f\"The proportion of rows between 8 AM and 7 PM is: {proportion:.2%}\")"
      ]
    }
  ]
}