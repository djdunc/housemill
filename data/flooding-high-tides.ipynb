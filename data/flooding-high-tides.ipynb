{
  "nbformat": 4,
  "nbformat_minor": 0,
  "metadata": {
    "colab": {
      "provenance": [],
      "authorship_tag": "ABX9TyOIvA73gJUWrdkFL1Q1/krX",
      "include_colab_link": true
    },
    "kernelspec": {
      "name": "python3",
      "display_name": "Python 3"
    },
    "language_info": {
      "name": "python"
    }
  },
  "cells": [
    {
      "cell_type": "markdown",
      "metadata": {
        "id": "view-in-github",
        "colab_type": "text"
      },
      "source": [
        "<a href=\"https://colab.research.google.com/github/djdunc/housemill/blob/master/data/flooding-high-tides.ipynb\" target=\"_parent\"><img src=\"https://colab.research.google.com/assets/colab-badge.svg\" alt=\"Open In Colab\"/></a>"
      ]
    },
    {
      "cell_type": "code",
      "execution_count": 6,
      "metadata": {
        "colab": {
          "base_uri": "https://localhost:8080/"
        },
        "id": "9JK1ayNelDfI",
        "outputId": "fbd5e058-f523-44db-92f9-5d7af9e226f8"
      },
      "outputs": [
        {
          "output_type": "stream",
          "name": "stdout",
          "text": [
            "calculating floods visible in room (less than 570mm)\n",
            "                     Time  Sonar Distance Measure (mm)\n",
            "63    2023-10-02 04:20:12                          490\n",
            "86    2023-10-02 16:10:12                          470\n",
            "1233  2023-10-28 01:30:12                          440\n",
            "1251  2023-10-28 13:40:13                          560\n",
            "1269  2023-10-29 01:50:12                          480\n",
            "1274  2023-10-29 01:40:18                          595\n",
            "1295  2023-10-29 13:10:13                          375\n",
            "5563  2024-01-13 14:50:12                          450\n",
            "5616  2024-01-14 15:40:12                          530\n",
            "5641  2024-01-15 03:50:12                          565\n",
            "6497  2024-02-01 05:20:12                          330\n",
            "6692  2024-02-05 07:20:12                          570\n",
            "6694  2024-02-05 07:40:13                          565\n",
            "7090  2024-02-11 02:10:13                          560\n",
            "7238  2024-02-12 02:50:12                          555\n",
            "7343  2024-02-14 04:20:12                          430\n",
            "8462  2024-02-26 02:30:12                          370\n",
            "8493  2024-02-26 15:00:12                          550\n",
            "9238  2024-03-10 13:30:12                          510\n",
            "9316  2024-03-12 02:30:12                          430\n",
            "9342  2024-03-12 15:00:12                          380\n",
            "9415  2024-03-13 03:10:18                          395\n",
            "10879 2024-04-10 03:10:13                          281\n",
            "10898 2024-04-10 15:30:11                          450\n",
            "10947 2024-04-11 16:20:12                          470\n",
            "10971 2024-04-12 04:20:12                          515\n",
            "24293 2024-08-23 04:40:13                          405\n",
            "24318 2024-08-23 16:50:13                          380\n",
            "24346 2024-08-24 05:30:13                          530\n",
            "27536 2024-09-19 03:10:13                          550\n",
            "27636 2024-09-20 03:50:13                          430\n",
            "27660 2024-09-20 15:50:13                          470\n",
            "27686 2024-09-21 04:30:13                          475\n",
            "27698 2024-09-21 16:40:12                          435\n",
            "27749 2024-09-22 17:10:13                          560\n",
            "Number of minima found: 35\n",
            "Minima saved to 35-flooding-high-tides.csv\n",
            "calculating floods touching floorboard (less than 830mm)\n",
            "                     Time  Sonar Distance Measure (mm)\n",
            "10    2023-10-01 03:30:12                          615\n",
            "34    2023-10-01 15:30:13                          645\n",
            "63    2023-10-02 04:20:12                          490\n",
            "86    2023-10-02 16:10:12                          470\n",
            "136   2023-10-03 16:50:13                          821\n",
            "...                   ...                          ...\n",
            "27660 2024-09-20 15:50:13                          470\n",
            "27686 2024-09-21 04:30:13                          475\n",
            "27698 2024-09-21 16:40:12                          435\n",
            "27723 2024-09-22 04:50:13                          670\n",
            "27749 2024-09-22 17:10:13                          560\n",
            "\n",
            "[114 rows x 2 columns]\n",
            "Number of minima found: 114\n",
            "Minima saved to 114-flooding-high-tides.csv\n"
          ]
        }
      ],
      "source": [
        "import pandas as pd\n",
        "import numpy as np\n",
        "\n",
        "df = pd.read_csv('/content/Maxbotix-Sonar-height-data-2023_10-2024-09.csv')\n",
        "\n",
        "def find_cyclical_minima(df, time_column, data_column, height):\n",
        "    \"\"\"\n",
        "    Finds all cyclical minimum values in a tidal dataset.\n",
        "\n",
        "    Args:\n",
        "        df (pd.DataFrame): The input DataFrame.\n",
        "        time_column (str): The name of the time column.\n",
        "        data_column (str): The name of the data column.\n",
        "\n",
        "    Returns:\n",
        "        pandas.DataFrame: A DataFrame containing the minimum values and their times.\n",
        "        Returns empty DataFrame if no minima found.\n",
        "    \"\"\"\n",
        "\n",
        "    df[time_column] = pd.to_datetime(df[time_column])\n",
        "\n",
        "    # Ensure data is sorted by time\n",
        "    df = df.sort_values(by=time_column)\n",
        "\n",
        "    minima_indices = []\n",
        "    for i in range(len(df)):\n",
        "      is_minimum = True\n",
        "      # compare to previous point, handle the edge case\n",
        "      if i > 0 and df.iloc[i][data_column] > df.iloc[i-1][data_column]:\n",
        "        is_minimum = False\n",
        "      # compare to next point, handle the edge case\n",
        "      if i < len(df) -1 and df.iloc[i][data_column] > df.iloc[i+1][data_column]:\n",
        "        is_minimum = False\n",
        "      if df.iloc[i][data_column] > height:   #830 floorboard 570 room\n",
        "        is_minimum = False\n",
        "      if is_minimum:\n",
        "        minima_indices.append(i)\n",
        "\n",
        "\n",
        "    minima = df.loc[minima_indices, [time_column, data_column]]\n",
        "\n",
        "    return minima\n",
        "\n",
        "print(\"calculating floods visible in room (less than 570mm)\")\n",
        "minima = find_cyclical_minima(df, 'Time', 'Sonar Distance Measure (mm)', 570)\n",
        "print(minima)\n",
        "print(f\"Number of minima found: {len(minima)}\")\n",
        "\n",
        "# Save to CSV\n",
        "minima.to_csv(f\"{len(minima)}-flooding-high-tides.csv\", index=False)  # index=False prevents the index from being written to the file\n",
        "\n",
        "print(f\"Minima saved to {len(minima)}-flooding-high-tides.csv\")\n",
        "\n",
        "print(\"calculating floods touching floorboard (less than 830mm)\")\n",
        "minima = find_cyclical_minima(df, 'Time', 'Sonar Distance Measure (mm)', 830)\n",
        "print(minima)\n",
        "print(f\"Number of minima found: {len(minima)}\")\n",
        "\n",
        "# Save to CSV\n",
        "minima.to_csv(f\"{len(minima)}-flooding-high-tides-touching-floorboard.csv\", index=False)  # index=False prevents the index from being written to the file\n",
        "\n",
        "print(f\"Minima saved to {len(minima)}-flooding-high-tides.csv\")"
      ]
    }
  ]
}