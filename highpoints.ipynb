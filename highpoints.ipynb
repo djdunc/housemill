{
  "nbformat": 4,
  "nbformat_minor": 0,
  "metadata": {
    "colab": {
      "provenance": [],
      "authorship_tag": "ABX9TyOUGEf6Vn8/6Sto4UPTWDuz",
      "include_colab_link": true
    },
    "kernelspec": {
      "name": "python3",
      "display_name": "Python 3"
    },
    "language_info": {
      "name": "python"
    }
  },
  "cells": [
    {
      "cell_type": "markdown",
      "metadata": {
        "id": "view-in-github",
        "colab_type": "text"
      },
      "source": [
        "<a href=\"https://colab.research.google.com/github/djdunc/housemill/blob/master/highpoints.ipynb\" target=\"_parent\"><img src=\"https://colab.research.google.com/assets/colab-badge.svg\" alt=\"Open In Colab\"/></a>"
      ]
    },
    {
      "cell_type": "code",
      "execution_count": null,
      "metadata": {
        "id": "9JK1ayNelDfI"
      },
      "outputs": [],
      "source": [
        "df = pd.read_csv('Maxbotix Sonar height-data-2025-02-07 08_37_29.csv')\n",
        "\n",
        "def find_cyclical_minima(df, time_column, data_column):\n",
        "    \"\"\"\n",
        "    Finds all cyclical minimum values in a tidal dataset.\n",
        "\n",
        "    Args:\n",
        "        df (pd.DataFrame): The input DataFrame.\n",
        "        time_column (str): The name of the time column.\n",
        "        data_column (str): The name of the data column.\n",
        "\n",
        "    Returns:\n",
        "        pandas.DataFrame: A DataFrame containing the minimum values and their times.\n",
        "        Returns empty DataFrame if no minima found.\n",
        "    \"\"\"\n",
        "\n",
        "    df[time_column] = pd.to_datetime(df[time_column])\n",
        "\n",
        "    # Ensure data is sorted by time\n",
        "    df = df.sort_values(by=time_column)\n",
        "\n",
        "    minima_indices = []\n",
        "    for i in range(len(df)):\n",
        "      is_minimum = True\n",
        "      # compare to previous point, handle the edge case\n",
        "      if i > 0 and df.iloc[i][data_column] > df.iloc[i-1][data_column]:\n",
        "        is_minimum = False\n",
        "      # compare to next point, handle the edge case\n",
        "      if i < len(df) -1 and df.iloc[i][data_column] > df.iloc[i+1][data_column]:\n",
        "        is_minimum = False\n",
        "      if is_minimum:\n",
        "        minima_indices.append(i)\n",
        "\n",
        "\n",
        "    minima = df.loc[minima_indices, [time_column, data_column]]\n",
        "\n",
        "    return minima\n",
        "\n",
        "minima = find_cyclical_minima(df, '﻿Time', 'Sonar Distance Measure (mm)')\n",
        "print(minima)"
      ]
    }
  ]
}